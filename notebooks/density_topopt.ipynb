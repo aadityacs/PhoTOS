{
 "cells": [
  {
   "cell_type": "code",
   "execution_count": null,
   "metadata": {},
   "outputs": [],
   "source": [
    "import sys\n",
    "sys.path.append('../')\n",
    "\n",
    "import yaml\n",
    "from typing import Union\n",
    "import jax\n",
    "import jax.numpy as jnp\n",
    "import optax\n",
    "\n",
    "import matplotlib.pyplot as plt\n",
    "import numpy as onp\n",
    "from skimage import measure\n",
    "import gifcm\n",
    "\n",
    "import mesher\n",
    "import utils\n",
    "# import losses\n",
    "import projections\n",
    "\n",
    "import invrs_gym\n",
    "from totypes import types\n",
    "_Ext = utils.Extent"
   ]
  },
  {
   "cell_type": "code",
   "execution_count": null,
   "metadata": {},
   "outputs": [],
   "source": [
    "with open(\"./settings.yaml\", \"r\") as file:\n",
    "  config = yaml.safe_load(file)\n",
    "\n",
    "mesh_cfg = config['DOM_MESH']\n",
    "bbox_cfg = config['DOM_BBOX']\n",
    "cons_cfg = config['CONSTRAINTS']"
   ]
  },
  {
   "cell_type": "code",
   "execution_count": null,
   "metadata": {},
   "outputs": [],
   "source": [
    "dom_bbox = mesher.BoundingBox(x=_Ext(bbox_cfg['x_min'], bbox_cfg['x_max']),\n",
    "                                y=_Ext(bbox_cfg['y_min'], bbox_cfg['y_max'])\n",
    "                                )\n",
    "dom_mesh = mesher.Mesher(nelx=mesh_cfg['nelx'],\n",
    "                           nely=mesh_cfg['nely'],\n",
    "                           bounding_box=dom_bbox)"
   ]
  },
  {
   "cell_type": "code",
   "execution_count": null,
   "metadata": {},
   "outputs": [],
   "source": [
    "mesh_resolution_nm = dom_bbox.lx/dom_mesh.nelx"
   ]
  },
  {
   "cell_type": "code",
   "execution_count": null,
   "metadata": {},
   "outputs": [],
   "source": [
    "mesh_resolution_nm"
   ]
  },
  {
   "cell_type": "code",
   "execution_count": null,
   "metadata": {},
   "outputs": [],
   "source": [
    "challenge = invrs_gym.challenges.ceviche_lightweight_waveguide_bend(\n",
    "                                            resolution_nm=mesh_resolution_nm)"
   ]
  },
  {
   "cell_type": "code",
   "execution_count": null,
   "metadata": {},
   "outputs": [],
   "source": [
    "key = jax.random.PRNGKey(seed=27)\n",
    "\n",
    "init_design = jax.random.uniform(key, (dom_mesh.num_elems,),\n",
    "                                 minval=-0.001, maxval=0.0001)\n",
    "\n",
    "init_density = jax.nn.sigmoid(init_design).reshape((dom_mesh.nelx, dom_mesh.nely))\n",
    "dens_array = types.Density2DArray(array=init_density, lower_bound=0.,\n",
    "                                  upper_bound=1.)"
   ]
  },
  {
   "cell_type": "code",
   "execution_count": null,
   "metadata": {},
   "outputs": [],
   "source": [
    "num_epochs, lr = 25, 2.e-1"
   ]
  },
  {
   "cell_type": "code",
   "execution_count": null,
   "metadata": {},
   "outputs": [],
   "source": [
    "def optimize_design(init_guess: jnp.ndarray,\n",
    "                    num_epochs: int,\n",
    "                    lr: float,\n",
    "                    plot_interval: int = 5)->jnp.ndarray:\n",
    "\n",
    "  optimizer = optax.adam(learning_rate=lr)\n",
    "  opt_state = optimizer.init(init_guess)\n",
    "  opt_params = init_guess\n",
    "\n",
    "  epoch = 0\n",
    "  comp_0 = 1.\n",
    "\n",
    "  def loss_wrapper(opt_params: jnp.ndarray, epoch: int):\n",
    "\n",
    "    density = jax.nn.sigmoid(opt_params)\n",
    "    density = projections.threshold_filter(density).reshape((dom_mesh.nelx,\n",
    "                                                             dom_mesh.nely))\n",
    "    dens_array.array = density\n",
    "\n",
    "    response, aux = challenge.component.response(dens_array)\n",
    "    loss = challenge.loss(response)\n",
    "    distance = challenge.distance_to_target(response)\n",
    "    metrics = challenge.metrics(response, dens_array, aux)\n",
    "    return loss, (density, response, distance, metrics, aux)\n",
    "  \n",
    "  convg_history = {'epoch': [], 'loss': [], 'density': [], 'aux': [],\n",
    "                   'response': [], 'metrics': [], 'distance': []}\n",
    "  for epoch in range(num_epochs):\n",
    "    (loss, (density, response, distance, metrics, aux)), grad_loss = jax.value_and_grad(\n",
    "                                                    loss_wrapper, has_aux=True)(\n",
    "                                                        opt_params, epoch)\n",
    "\n",
    "    updates, opt_state = optimizer.update(grad_loss, opt_state)\n",
    "    opt_params = optax.apply_updates(opt_params, updates)\n",
    "\n",
    "    convg_history['epoch'].append(epoch); convg_history['response'].append(response)\n",
    "    convg_history['loss'].append(loss); convg_history['metrics'].append(metrics)\n",
    "    convg_history['density'].append(density); convg_history['distance'].append(distance)\n",
    "    convg_history['aux'].append(aux)\n",
    "\n",
    "    if epoch == 1 or epoch == 10:\n",
    "      loss_0 =  jax.lax.stop_gradient(loss)\n",
    "\n",
    "    status = f'epoch {epoch}, J = {loss:.2E}'\n",
    "    print(status)\n",
    "    if epoch % plot_interval == 0:\n",
    "      plt.figure()\n",
    "      img = plt.imshow(density.reshape((dom_mesh.nelx, dom_mesh.nely)).T,\n",
    "                       cmap='coolwarm',\n",
    "                       origin='lower')\n",
    "      plt.colorbar(img); plt.title(status); plt.show(); plt.pause(1.e-3)\n",
    "\n",
    "  return density, convg_history"
   ]
  },
  {
   "cell_type": "code",
   "execution_count": null,
   "metadata": {},
   "outputs": [],
   "source": [
    "density, convg_history = optimize_design(init_design, num_epochs, lr)"
   ]
  },
  {
   "cell_type": "markdown",
   "metadata": {},
   "source": [
    "# Plotting the S params\n",
    "\n",
    "The S params if of shape (num_wvlenghts, num_input_ports, num_output_ports)\n",
    "\n",
    "The numbers are complex numbers. This has to do with the fact that the wave in a complex number and the S param measures the strength of the wave\n",
    "\n",
    "We want to get the strength of the wave... in other terms we first compute the\n",
    "magnitude\n",
    "\n",
    "the param is usually plotted in decibel scale ... we do this by doing 20xlog10()\n",
    "of the magnitude of the obtained response\n",
    "\n",
    "\n",
    "below we plot a gif (we collect the s param for each optimization epoch)"
   ]
  },
  {
   "cell_type": "code",
   "execution_count": null,
   "metadata": {},
   "outputs": [],
   "source": [
    "anim = gifcm.AnimatedFigure(figure=plt.figure(figsize=(8, 4)))\n",
    "\n",
    "for (i, response) in zip(convg_history['epoch'],\n",
    "                         convg_history['response']):\n",
    "  with anim.frame():\n",
    "    ax = plt.subplot(111)\n",
    "    ax.plot(\n",
    "            response.wavelengths_nm,\n",
    "            20 * onp.log10(onp.abs(response.s_parameters[:,0,0])),\n",
    "            \"o-\",\n",
    "            label=\"$|S_{11}|^2$\",\n",
    "        )\n",
    "    ax.plot(\n",
    "            response.wavelengths_nm,\n",
    "            20 * onp.log10(onp.abs(response.s_parameters[:,0,1])),\n",
    "            \"o-\",\n",
    "            label=\"$|S_{21}|^2$\",\n",
    "        )\n",
    "    ax.legend()\n",
    "    ax.set_xlabel('wavelength')\n",
    "    ax.set_ylabel('scattering param')\n",
    "    ax.set_xlim(onp.amin(response.wavelengths_nm), onp.amax(response.wavelengths_nm))\n",
    "    ax.set_ylim([1., -40.])\n",
    "    ax.set_title(f'epoch {i}')\n",
    "    ax.invert_yaxis()\n",
    "\n",
    "anim.save_gif(\"s_param.gif\", duration=400)"
   ]
  },
  {
   "cell_type": "code",
   "execution_count": null,
   "metadata": {},
   "outputs": [],
   "source": [
    "anim = gifcm.AnimatedFigure(figure=plt.figure(figsize=(8, 4)))\n",
    "\n",
    "for (i, rho, aux) in zip(convg_history['epoch'],\n",
    "                         convg_history['density'],\n",
    "                         convg_history['aux']):\n",
    "  with anim.frame():\n",
    "    # Plot fields, using some of the methods specific to the underlying ceviche model.\n",
    "    density = challenge.component.ceviche_model.density(rho.reshape((dom_mesh.nelx,\n",
    "                                                                     dom_mesh.nely)))\n",
    "\n",
    "    ax = plt.subplot(121)\n",
    "    img = ax.imshow(density, cmap=\"gray\")\n",
    "    plt.text(100, 90, f\"step {i:02}\", color=\"w\", fontsize=20)\n",
    "    ax.axis(False)\n",
    "    plt.colorbar(img)\n",
    "    ax.set_xlim(ax.get_xlim()[::-1])\n",
    "    ax.set_ylim(ax.get_ylim()[::-1])\n",
    "\n",
    "    # Plot the field, which is a part of the `aux` returned with the challenge response.\n",
    "    # The field will be overlaid with contours of the binarized design.\n",
    "    field = onp.real(aux[\"fields\"])\n",
    "    field = field[0, 0, :, :]  # First wavelength, first excitation port.\n",
    "    contours = measure.find_contours(density)\n",
    "\n",
    "    ax = plt.subplot(122)\n",
    "    im = ax.imshow(field, cmap=\"bwr\")\n",
    "    im.set_clim([-onp.amax(field), onp.amax(field)])\n",
    "    for c in contours:\n",
    "        plt.plot(c[:, 1], c[:, 0], \"k\", lw=1)\n",
    "    ax.axis(False)\n",
    "    ax.set_xlim(ax.get_xlim()[::-1])\n",
    "    ax.set_ylim(ax.get_ylim()[::-1])\n",
    "\n",
    "anim.save_gif(\"waveguide_bend.gif\", duration=200)"
   ]
  },
  {
   "cell_type": "code",
   "execution_count": null,
   "metadata": {},
   "outputs": [],
   "source": []
  }
 ],
 "metadata": {
  "kernelspec": {
   "display_name": "jaxenv",
   "language": "python",
   "name": "python3"
  },
  "language_info": {
   "codemirror_mode": {
    "name": "ipython",
    "version": 3
   },
   "file_extension": ".py",
   "mimetype": "text/x-python",
   "name": "python",
   "nbconvert_exporter": "python",
   "pygments_lexer": "ipython3",
   "version": "3.10.13"
  }
 },
 "nbformat": 4,
 "nbformat_minor": 2
}
