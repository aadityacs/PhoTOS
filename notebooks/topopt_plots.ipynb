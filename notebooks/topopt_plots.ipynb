{
 "cells": [
  {
   "cell_type": "code",
   "execution_count": null,
   "metadata": {},
   "outputs": [],
   "source": [
    "import sys\n",
    "sys.path.append('../')\n",
    "\n",
    "import pickle\n",
    "import yaml\n",
    "import numpy as np\n",
    "import jax\n",
    "import jax.numpy as jnp\n",
    "import matplotlib.pyplot as plt\n",
    "\n",
    "import invrs_gym\n",
    "from totypes import types\n",
    "from skimage import measure\n",
    "import gifcm\n",
    "\n",
    "\n",
    "import mesher\n",
    "import utils\n",
    "import projections\n",
    "import transforms\n",
    "import sdf_ops\n",
    "import opt\n",
    "import network\n",
    "import mma\n",
    "\n",
    "import plot_utils\n",
    "\n",
    "plt.rcParams.update(plot_utils.high_res_plot_settings)\n",
    "\n",
    "_Ext = utils.Extent"
   ]
  },
  {
   "cell_type": "code",
   "execution_count": null,
   "metadata": {},
   "outputs": [],
   "source": [
    "with open(\"./settings.yaml\", \"r\") as file:\n",
    "  config = yaml.safe_load(file)\n",
    "\n",
    "dom_mesh_cfg = config['DOM_MESH']\n",
    "dom_bbox_cfg = config['DOM_BBOX']\n",
    "nn_cfg = config['IMPLICIT_NN']\n",
    "stamp_bbox_cfg = config['STAMP_BBOX']\n",
    "stamp_mesh_cfg = config['STAMP_MESH']\n",
    "cons_cfg = config['CONSTRAINTS']\n",
    "topopt_cfg = config['TOPOPT']"
   ]
  },
  {
   "cell_type": "markdown",
   "metadata": {},
   "source": [
    "# Define mesh"
   ]
  },
  {
   "cell_type": "code",
   "execution_count": null,
   "metadata": {},
   "outputs": [],
   "source": [
    "dom_bbox = mesher.BoundingBox(x=_Ext(dom_bbox_cfg['x_min'],\n",
    "                                     dom_bbox_cfg['x_max']),\n",
    "                              y=_Ext(dom_bbox_cfg['y_min'], \n",
    "                                     dom_bbox_cfg['y_max'])\n",
    "                              )\n",
    "\n",
    "dom_mesh = mesher.Mesher(nelx=dom_mesh_cfg['nelx'],\n",
    "                         nely=dom_mesh_cfg['nely'],\n",
    "                         bounding_box=dom_bbox)\n",
    "\n",
    "stamp_bbox = mesher.BoundingBox(x=_Ext(stamp_bbox_cfg['x_min'],\n",
    "                                       stamp_bbox_cfg['x_max']),\n",
    "                                y=_Ext(stamp_bbox_cfg['y_min'],\n",
    "                                       stamp_bbox_cfg['y_max'])\n",
    "                                )\n",
    "default_stamp_mesh = mesher.Mesher(nelx=stamp_mesh_cfg['nelx'],\n",
    "                                   nely=stamp_mesh_cfg['nely'],\n",
    "                                   bounding_box=stamp_bbox\n",
    "                                   )"
   ]
  },
  {
   "cell_type": "markdown",
   "metadata": {},
   "source": [
    "# Load stamps"
   ]
  },
  {
   "cell_type": "code",
   "execution_count": null,
   "metadata": {},
   "outputs": [],
   "source": [
    "stamp_bbox = mesher.BoundingBox(x=_Ext(stamp_bbox_cfg['x_min'],\n",
    "                                       stamp_bbox_cfg['x_max']),\n",
    "                                y=_Ext(stamp_bbox_cfg['y_min'],\n",
    "                                       stamp_bbox_cfg['y_max'])\n",
    "                                )\n",
    "default_stamp_mesh = mesher.Mesher(nelx=stamp_mesh_cfg['nelx'],\n",
    "                                   nely=stamp_mesh_cfg['nely'],\n",
    "                                   bounding_box=stamp_bbox\n",
    "                                   )\n",
    "\n",
    "library_stamp_sdfs = np.load('../data/train_sdf_images.npy')"
   ]
  },
  {
   "cell_type": "markdown",
   "metadata": {},
   "source": [
    "# Define the transform extents"
   ]
  },
  {
   "cell_type": "code",
   "execution_count": null,
   "metadata": {},
   "outputs": [],
   "source": [
    "scale_factor = 0.5\n",
    "min_feature_size = cons_cfg['mfs']\n",
    "lib_mfs = cons_cfg['library_mfs']\n",
    "\n",
    "dom_bbox_padded = mesher.BoundingBox(\n",
    "    x=_Ext(dom_bbox_cfg['x_min'], dom_bbox_cfg['x_max']).pad(pad_amount=-80),\n",
    "    y=_Ext(dom_bbox_cfg['y_min'], dom_bbox_cfg['y_max']).pad(pad_amount=-80),\n",
    ")\n",
    "\n",
    "max_scale = scale_factor*(dom_bbox_padded.diag_length/stamp_bbox.diag_length)\n",
    "\n",
    "transform_extent = transforms.TransformExtent(trans_x=dom_bbox_padded.x,\n",
    "                                              trans_y=dom_bbox_padded.y,\n",
    "                                              rot_rad=_Ext(0., 2*np.pi),\n",
    "                                              scale=_Ext(min_feature_size/lib_mfs, max_scale))"
   ]
  },
  {
   "cell_type": "markdown",
   "metadata": {},
   "source": [
    "# Load the vae network"
   ]
  },
  {
   "cell_type": "code",
   "execution_count": null,
   "metadata": {},
   "outputs": [],
   "source": [
    "latent_dim = nn_cfg['latent_dim']\n",
    "implicit_hidden_dim = nn_cfg['hidden_dim']\n",
    "implicit_num_layers = nn_cfg['num_layers']\n",
    "implicit_siren_freq = nn_cfg['siren_freq']\n",
    "\n",
    "\n",
    "sdf_net = network.ConvoImplicitAutoEncoder(latent_dim=latent_dim,\n",
    "                                           implicit_hidden_dim=implicit_hidden_dim,\n",
    "                                           implicit_num_layers=implicit_num_layers,\n",
    "                                           implicit_siren_freq=implicit_siren_freq)\n",
    "\n",
    "with open('../data/sdf_vae_net_weights.pkl', 'rb') as f:\n",
    "  sdf_net_params = pickle.load(f)"
   ]
  },
  {
   "cell_type": "markdown",
   "metadata": {},
   "source": [
    "## Get the encoded Zs"
   ]
  },
  {
   "cell_type": "code",
   "execution_count": null,
   "metadata": {},
   "outputs": [],
   "source": [
    "pred_enc_stamps, _,_, encoded_z = sdf_net.apply({'params': sdf_net_params},\n",
    "                              library_stamp_sdfs,\n",
    "                              default_stamp_mesh.elem_centers,\n",
    "                              False)\n",
    "min_encoded_coordn = jnp.amin(encoded_z, axis=0)\n",
    "max_encoded_coordn = jnp.amax(encoded_z, axis=0)"
   ]
  },
  {
   "cell_type": "markdown",
   "metadata": {},
   "source": [
    "## Load the history"
   ]
  },
  {
   "cell_type": "code",
   "execution_count": null,
   "metadata": {},
   "outputs": [],
   "source": [
    "save_file = f\"../results/convergence_mode_convertor_2024-07-01-18-02.pkl\"\n",
    "with open(save_file, 'rb') as f:\n",
    "  convg_history = pickle.load(f)\n",
    "\n",
    "mma_state_array = np.load('../results/mma_mode_convertor_2024-07-01-18-02.npy')\n",
    "\n",
    "# TODO: Save the num_design_var to yaml in vae_topopt and read it from there here\n",
    "num_stamp_x, num_stamp_y = topopt_cfg['num_stamps_x'], topopt_cfg['num_stamps_y']\n",
    "num_stamps = num_stamp_x * num_stamp_y\n",
    "num_latent_params = latent_dim*num_stamps\n",
    "mma_state = mma.MMAState.from_array(mma_state_array, num_design_var=topopt_cfg['num_design_var'])\n"
   ]
  },
  {
   "cell_type": "markdown",
   "metadata": {},
   "source": [
    "## Convergence"
   ]
  },
  {
   "cell_type": "code",
   "execution_count": null,
   "metadata": {},
   "outputs": [],
   "source": [
    "# Create the figure and primary axis\n",
    "fig, ax1 = plt.subplots()\n",
    "\n",
    "# Plot field_1 on the primary y-axis\n",
    "ax1.plot(convg_history['epoch'],\n",
    "          convg_history['objective'],\n",
    "          'k-', label='Objective')\n",
    "ax1.set_ylabel('Objective')\n",
    "\n",
    "# Create a twin axis for field2 and field3\n",
    "ax2 = ax1.twinx()\n",
    "\n",
    "# Plot field2 on the secondary y-axis\n",
    "ax2.plot(convg_history['epoch'],\n",
    "         convg_history['sep_cons'],\n",
    "         'g:.', label='Seperation cons')\n",
    "ax2.set_ylabel('Constraints', color='red')\n",
    "\n",
    "# Plot field3 on the secondary y-axis with a different linestyle\n",
    "ax2.plot(convg_history['epoch'],\n",
    "         convg_history['lat_cons'],\n",
    "         'r--', label='Latent cons')\n",
    "ax2.tick_params(axis='y', labelcolor='red')\n",
    "\n",
    "# Set labels and title\n",
    "ax1.set_xlabel('Epoch')\n",
    "\n",
    "\n",
    "# plt.title('Two Y-Axis Plot')\n",
    "\n",
    "# Add legend\n",
    "lines1, labels1 = ax1.get_legend_handles_labels()\n",
    "lines2, labels2 = ax2.get_legend_handles_labels()\n",
    "plt.legend(lines1 + lines2, labels1 + labels2, loc='upper left')\n",
    "\n",
    "plt.show()"
   ]
  },
  {
   "cell_type": "markdown",
   "metadata": {},
   "source": [
    "## Get the S-params at certain iterations for more wvlengths"
   ]
  },
  {
   "cell_type": "code",
   "execution_count": null,
   "metadata": {},
   "outputs": [],
   "source": [
    "mesh_resolution_nm = dom_bbox.lx/dom_mesh.nelx\n",
    "\n",
    "challenge = invrs_gym.challenges.ceviche_waveguide_bend(\n",
    "                                      resolution_nm=mesh_resolution_nm)\n",
    "\n",
    "# mode convertor\n",
    "# challenge = invrs_gym.challenges.ceviche_mode_converter(\n",
    "#                                               resolution_nm=mesh_resolution_nm)\n",
    "\n",
    "\n",
    "# density array\n",
    "key = jax.random.PRNGKey(seed=1)\n",
    "init_density = jax.random.uniform(key, (dom_mesh.nelx, dom_mesh.nely),\n",
    "                                 minval=0., maxval=1.)\n",
    "dens_array = types.Density2DArray(array=init_density, lower_bound=0.,\n",
    "                                  upper_bound=1.)"
   ]
  },
  {
   "cell_type": "code",
   "execution_count": null,
   "metadata": {},
   "outputs": [],
   "source": [
    "for epoch in [0, 20, 110]:\n",
    "  curr_dens = convg_history['density'][epoch]\n",
    "  dens_array.array = curr_dens\n",
    "  response, aux = challenge.component.response(dens_array)\n",
    "\n",
    "  fig, ax = plt.subplots(1,1)\n",
    "  ax.plot(\n",
    "            response.wavelengths_nm,\n",
    "            20 * np.log10(np.abs(response.s_parameters[:,0,0])),\n",
    "            \"r-\",\n",
    "            label=\"$|S_{11}|^2$\",\n",
    "        )\n",
    "  ax.plot(\n",
    "          response.wavelengths_nm,\n",
    "          20 * np.log10(np.abs(response.s_parameters[:,0,1])),\n",
    "          \"b--\",\n",
    "          label=\"$|S_{21}|^2$\",\n",
    "      )\n",
    "  ax.legend()\n",
    "  ax.set_xlabel('wavelength')\n",
    "  ax.set_ylabel('scattering param')\n",
    "  ax.set_xlim(np.amin(response.wavelengths_nm), np.amax(response.wavelengths_nm))\n",
    "  ax.set_ylim([1., -40.])\n",
    "  ax.set_title(f'epoch {epoch}')\n",
    "  ax.invert_yaxis()\n",
    "\n",
    "\n",
    "  full_density = challenge.component.ceviche_model.density(curr_dens)\n",
    "\n",
    "  field = np.real(convg_history['aux'][epoch][\"fields\"])\n",
    "  field = field[0, 0, :, :]  # First wavelength, first excitation port.\n",
    "  contours = measure.find_contours(full_density)\n",
    "\n",
    "  fig, ax = plt.subplots(1,1)\n",
    "  im = ax.imshow(field, cmap=\"bwr\")\n",
    "  im.set_clim([-np.amax(field), np.amax(field)])\n",
    "  for c in contours:\n",
    "    plt.plot(c[:, 1], c[:, 0], \"k\", lw=1)\n",
    "  ax.axis(False)\n",
    "  ax.set_xlim(ax.get_xlim()[::-1])\n",
    "  ax.set_ylim(ax.get_ylim()[::-1])\n",
    "  plt.show()"
   ]
  },
  {
   "cell_type": "markdown",
   "metadata": {},
   "source": [
    "## High resolution plot"
   ]
  },
  {
   "cell_type": "code",
   "execution_count": null,
   "metadata": {},
   "outputs": [],
   "source": [
    "high_res_dom_mesh = mesher.Mesher(nelx=5*dom_mesh_cfg['nelx'],\n",
    "                         nely=5*dom_mesh_cfg['nely'],\n",
    "                         bounding_box=dom_bbox)"
   ]
  },
  {
   "cell_type": "code",
   "execution_count": null,
   "metadata": {},
   "outputs": [],
   "source": [
    "opt_params = mma_state.x\n",
    "\n",
    "\n",
    "(pred_stamp_latent_coordns, \n",
    "  shape_transforms) = opt.compute_transforms_and_latent_coordn_from_opt_params(\n",
    "                                                      opt_params.flatten(),\n",
    "                                                      num_stamps,\n",
    "                                                      transform_extent,\n",
    "                                                      num_latent_params,\n",
    "                                                      latent_dim,\n",
    "                                                      min_encoded_coordn,\n",
    "                                                      max_encoded_coordn\n",
    "                                                      )\n",
    "shape_sdfs = opt.compute_shape_sdfs(sdf_net,\n",
    "                              sdf_net_params,\n",
    "                              high_res_dom_mesh,\n",
    "                              shape_transforms,\n",
    "                              pred_stamp_latent_coordns,\n",
    "                              stamp_bbox)\n",
    "shape_densities = sdf_ops.project_sdf_to_density(shape_sdfs, high_res_dom_mesh)\n",
    "density = sdf_ops.compute_union_density_fields(shape_densities).reshape((\n",
    "                                                              high_res_dom_mesh.nelx,\n",
    "                                                              high_res_dom_mesh.nely))\n",
    "density = projections.threshold_filter(density)\n",
    "dens_array.array = density\n",
    "\n",
    "\n",
    "plt.figure()\n",
    "img = plt.imshow(density.reshape((high_res_dom_mesh.nelx, \n",
    "                                  high_res_dom_mesh.nely)).T,\n",
    "                                  cmap='coolwarm',\n",
    "                                  origin='lower')\n",
    "plt.colorbar(img)"
   ]
  },
  {
   "cell_type": "markdown",
   "metadata": {},
   "source": [
    "# Colored shapes plot"
   ]
  },
  {
   "cell_type": "code",
   "execution_count": null,
   "metadata": {},
   "outputs": [],
   "source": [
    "delta_des_avail_latent = (pred_stamp_latent_coordns[:, np.newaxis, :] - \n",
    "                            encoded_z[np.newaxis, :, :])#{dal}\n",
    "  \n",
    "dist_des_avail_latent = jnp.linalg.norm(delta_des_avail_latent, axis=-1) #{da}\n",
    "nearest_shape_idx = np.argmin(dist_des_avail_latent, axis=1)\n",
    "\n",
    "shape_colors = plot_utils.shape_lib_color_palette[nearest_shape_idx, :]\n",
    "shape_densities_filtered = projections.threshold_filter(shape_densities, 100)\n",
    "colored_shapes =   1. - np.einsum('sc, sp -> pc', shape_colors, shape_densities_filtered)"
   ]
  },
  {
   "cell_type": "code",
   "execution_count": null,
   "metadata": {},
   "outputs": [],
   "source": [
    "transpose_image = np.transpose(colored_shapes.reshape(high_res_dom_mesh.nely, high_res_dom_mesh.nelx, 3), (1, 0, 2))\n",
    "plt.imshow(transpose_image, origin='lower')\n",
    "plt.show()"
   ]
  },
  {
   "cell_type": "markdown",
   "metadata": {},
   "source": [
    "# Scattering param Convergence GIF"
   ]
  },
  {
   "cell_type": "code",
   "execution_count": null,
   "metadata": {},
   "outputs": [],
   "source": [
    "anim = gifcm.AnimatedFigure(figure=plt.figure(figsize=(8, 4)))\n",
    "\n",
    "for (i, response) in zip(convg_history['epoch'],\n",
    "                         convg_history['response']):\n",
    "  with anim.frame():\n",
    "    ax = plt.subplot(111)\n",
    "    ax.plot(\n",
    "            response.wavelengths_nm,\n",
    "            20 * np.log10(np.abs(response.s_parameters[:,0,0])),\n",
    "            \"o-\",\n",
    "            label=\"$|S_{11}|^2$\",\n",
    "        )\n",
    "    ax.plot(\n",
    "            response.wavelengths_nm,\n",
    "            20 * np.log10(np.abs(response.s_parameters[:,0,1])),\n",
    "            \"o-\",\n",
    "            label=\"$|S_{21}|^2$\",\n",
    "        )\n",
    "    ax.legend()\n",
    "    ax.set_xlabel('wavelength')\n",
    "    ax.set_ylabel('scattering param')\n",
    "    ax.set_xlim(np.amin(response.wavelengths_nm), np.amax(response.wavelengths_nm))\n",
    "    ax.set_ylim([1., -40.])\n",
    "    ax.set_title(f'epoch {i}')\n",
    "    ax.invert_yaxis()\n",
    "\n",
    "anim.save_gif(\"s_param.gif\", duration=400)"
   ]
  },
  {
   "cell_type": "markdown",
   "metadata": {},
   "source": [
    "# Design Convergence GIF"
   ]
  },
  {
   "cell_type": "code",
   "execution_count": null,
   "metadata": {},
   "outputs": [],
   "source": [
    "def animate():\n",
    "  anim = gifcm.AnimatedFigure(figure=plt.figure(figsize=(8, 4)))\n",
    "\n",
    "  for (i, rho, aux) in zip(convg_history['epoch'],\n",
    "                           convg_history['density'],\n",
    "                           convg_history['aux']):\n",
    "    with anim.frame():\n",
    "      # Plot fields, using some of the methods specific to the underlying ceviche model.\n",
    "      density = challenge.component.ceviche_model.density(rho.reshape((dom_mesh.nelx,\n",
    "                                                                      dom_mesh.nely)))\n",
    "\n",
    "      ax = plt.subplot(121)\n",
    "      img = ax.imshow(density, cmap=\"gray\")\n",
    "      plt.text(100, 90, f\"step {i:02}\", color=\"w\", fontsize=20)\n",
    "      ax.axis(False)\n",
    "      plt.colorbar(img)\n",
    "      ax.set_xlim(ax.get_xlim()[::-1])\n",
    "      ax.set_ylim(ax.get_ylim()[::-1])\n",
    "\n",
    "      # Plot the field, which is a part of the `aux` returned with the challenge response.\n",
    "      # The field will be overlaid with contours of the binarized design.\n",
    "      field = np.real(aux[\"fields\"])\n",
    "      field = field[0, 0, :, :]  # First wavelength, first excitation port.\n",
    "      contours = measure.find_contours(density)\n",
    "\n",
    "      ax = plt.subplot(122)\n",
    "      im = ax.imshow(field, cmap=\"bwr\")\n",
    "      im.set_clim([-np.amax(field), np.amax(field)])\n",
    "      for c in contours:\n",
    "          plt.plot(c[:, 1], c[:, 0], \"k\", lw=1)\n",
    "      ax.axis(False)\n",
    "      ax.set_xlim(ax.get_xlim()[::-1])\n",
    "      ax.set_ylim(ax.get_ylim()[::-1])\n",
    "\n",
    "  anim.save_gif(\"waveguide_bend.gif\", duration=200)\n",
    "\n",
    "animate()"
   ]
  }
 ],
 "metadata": {
  "kernelspec": {
   "display_name": "jaxenv",
   "language": "python",
   "name": "python3"
  },
  "language_info": {
   "codemirror_mode": {
    "name": "ipython",
    "version": 3
   },
   "file_extension": ".py",
   "mimetype": "text/x-python",
   "name": "python",
   "nbconvert_exporter": "python",
   "pygments_lexer": "ipython3",
   "version": "3.10.9"
  }
 },
 "nbformat": 4,
 "nbformat_minor": 2
}
