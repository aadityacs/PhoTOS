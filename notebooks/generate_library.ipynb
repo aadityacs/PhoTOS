{
 "cells": [
  {
   "cell_type": "code",
   "execution_count": null,
   "metadata": {},
   "outputs": [],
   "source": [
    "import sys\n",
    "sys.path.append('../')\n",
    "\n",
    "import numpy as np\n",
    "import matplotlib.pyplot as plt\n",
    "import imageio\n",
    "\n",
    "import yaml\n",
    "import imageruler\n",
    "import mesher\n",
    "import utils\n",
    "import plot_utils\n",
    "import skfmm\n",
    "\n",
    "import matplotlib.colors as mcolors\n",
    "from matplotlib.ticker import FormatStrFormatter\n",
    "\n",
    "_Ext = utils.Extent\n",
    "plt.rcParams.update(plot_utils.high_res_plot_settings)"
   ]
  },
  {
   "cell_type": "code",
   "execution_count": null,
   "metadata": {},
   "outputs": [],
   "source": [
    "with open(\"./settings.yaml\", \"r\") as file:\n",
    "  config = yaml.safe_load(file)\n",
    "\n",
    "mesh_cfg = config['STAMP_MESH']\n",
    "bbox_cfg = config['STAMP_BBOX']"
   ]
  },
  {
   "cell_type": "markdown",
   "metadata": {},
   "source": [
    "# Define Stamp Mesh"
   ]
  },
  {
   "cell_type": "code",
   "execution_count": null,
   "metadata": {},
   "outputs": [],
   "source": [
    "stamp_bbox = mesher.BoundingBox(x=_Ext(bbox_cfg['x_min'], bbox_cfg['x_max']),\n",
    "                                y=_Ext(bbox_cfg['y_min'], bbox_cfg['y_max'])\n",
    "                                )\n",
    "stamp_mesh = mesher.Mesher(nelx=mesh_cfg['nelx'],\n",
    "                           nely=mesh_cfg['nely'],\n",
    "                           bounding_box=stamp_bbox)"
   ]
  },
  {
   "cell_type": "markdown",
   "metadata": {},
   "source": [
    "# Define the generators"
   ]
  },
  {
   "cell_type": "code",
   "execution_count": null,
   "metadata": {},
   "outputs": [],
   "source": [
    "circ_gen = np.array(imageio.imread(\"../data/circle.png\"))\n",
    "rounged_sq = np.array(imageio.imread(\"../data/square.png\"))\n",
    "rounded_t_shape = np.array(imageio.imread(\"../data/T_shape.png\"))\n",
    "rounded_c_shape = np.array(imageio.imread(\"../data/C_shape.png\"))\n",
    "rounded_i_shape = np.array(imageio.imread(\"../data/I_shape.png\"))\n",
    "rounded_x_shape = np.array(imageio.imread(\"../data/X_shape.png\"))\n",
    "rounded_l_shape = np.array(imageio.imread(\"../data/L_shape.png\"))\n",
    "hexagon = np.array(imageio.imread(\"../data/hexagon.png\"))\n",
    "ellipse_1 = np.array(imageio.imread(\"../data/ellipse_1.png\"))\n",
    "ellipse_2 = np.array(imageio.imread(\"../data/ellipse_2.png\"))\n",
    "slot = np.array(imageio.imread(\"../data/slot.png\"))\n",
    "triangle = np.array(imageio.imread(\"../data/triangle.png\"))\n",
    "trapezium = np.array(imageio.imread(\"../data/trapezium.png\"))\n",
    "pentagon = np.array(imageio.imread(\"../data/pentagon.png\"))\n",
    "rhombus = np.array(imageio.imread(\"../data/rhombus.png\"))\n"
   ]
  },
  {
   "cell_type": "code",
   "execution_count": null,
   "metadata": {},
   "outputs": [],
   "source": [
    "shapes = []\n",
    "\n",
    "shapes.append(circ_gen)\n",
    "shapes.append(rounged_sq)\n",
    "shapes.append(rounded_t_shape)\n",
    "shapes.append(rounded_c_shape)\n",
    "shapes.append(rounded_i_shape)\n",
    "shapes.append(rounded_x_shape)\n",
    "shapes.append(rounded_l_shape)\n",
    "shapes.append(hexagon)\n",
    "shapes.append(pentagon)\n",
    "shapes.append(slot)\n",
    "shapes.append(rhombus)\n",
    "shapes.append(trapezium)\n",
    "shapes.append(triangle)\n",
    "shapes.append(ellipse_1)\n",
    "shapes.append(ellipse_2)\n"
   ]
  },
  {
   "cell_type": "markdown",
   "metadata": {},
   "source": [
    "# Convert Stamp images to SDF"
   ]
  },
  {
   "cell_type": "code",
   "execution_count": null,
   "metadata": {},
   "outputs": [],
   "source": [
    "def calculate_shape_sdf(shape: np.ndarray, dx: float) -> np.ndarray:\n",
    "  \"\"\"\n",
    "  Calculate the signed distance field (SDF) of a given shape.\n",
    "  \n",
    "  Args:\n",
    "    shape: Array of the shapes with density values of shape (mesh.nelx, mesh.nely, 4). 4 represents the number of picture channels.\n",
    "    dx: Grid spacing.\n",
    "\n",
    "  Returns: \n",
    "    A float array indicating the SDF of the shape.\n",
    "  \"\"\"\n",
    "  im = np.int64(np.any(shape[:, :, :3], axis=2))\n",
    "  shape_density = np.where(im, 0, -1) + 0.5\n",
    "  return skfmm.distance(-shape_density, dx=dx)"
   ]
  },
  {
   "cell_type": "code",
   "execution_count": null,
   "metadata": {},
   "outputs": [],
   "source": [
    "def plot_sdf(sdf: np.ndarray, solid_mfs: float, void_mfs: float) -> None:\n",
    "  \"\"\"\n",
    "  Plot the signed distance field (SDF) with color bar and annotations.\n",
    "\n",
    "  Args:\n",
    "    sdf: Array of the SDF of shape (mesh.nelx, mesh.nely) to plot.\n",
    "    solid_mfs: Float indicating solid minimum feature size.\n",
    "    void_mfs: Float indicating void minimum feature size.\n",
    "  \"\"\"\n",
    "  min_sdf = sdf.min()\n",
    "  max_sdf = sdf.max()\n",
    "  norm = mcolors.TwoSlopeNorm(vmin=min_sdf, vcenter=0, vmax=max_sdf)\n",
    "  \n",
    "  plt.figure()\n",
    "  img = plt.imshow(sdf, cmap='coolwarm', origin='lower', norm=norm)\n",
    "  cbar = plt.colorbar(img)\n",
    "  cbar.set_ticks(np.linspace(min_sdf, max_sdf, num=5))\n",
    "  cbar.ax.tick_params(labelsize=16)\n",
    "  cbar.ax.yaxis.set_major_formatter(FormatStrFormatter('%d'))\n",
    "  plt.axis('off')\n",
    "  plt.title(f'solid_mfs: {solid_mfs:.2f}, void_mfs: {void_mfs:.2f}')\n",
    "  plt.show()"
   ]
  },
  {
   "cell_type": "code",
   "execution_count": null,
   "metadata": {},
   "outputs": [],
   "source": [
    "def process_shape_images(shapes: list, stamp_mesh: mesher.Mesher, stamp_bbox: mesher.BoundingBox) -> np.ndarray:\n",
    "  \"\"\"\n",
    "  Process a list of shapes to compute their signed distance fields (SDF) and plot them.\n",
    "\n",
    "  Args:\n",
    "    shapes: List of arrays representing shapes.\n",
    "    stamp_mesh: A dataclass object containing stamp mesh information.\n",
    "    stamp_bbox: A dataclass object containing bounding box dimensions.\n",
    "\n",
    "  Returns: \n",
    "    An array of SDFs for each shape.\n",
    "  \"\"\"\n",
    "  train_data = np.zeros((len(shapes), stamp_mesh.nelx, stamp_mesh.nely, 1))\n",
    "\n",
    "  for ctr, shape in enumerate(shapes):\n",
    "    dx = stamp_bbox.lx / shape.shape[0]\n",
    "    \n",
    "    sdf = calculate_shape_sdf(shape, dx)\n",
    "    train_data[ctr, :, :, 0] = sdf\n",
    "    \n",
    "    solid_mfs_px, void_mfs_px = imageruler.minimum_length_scale(sdf > 0)\n",
    "    solid_mfs = solid_mfs_px * stamp_mesh.elem_size[0]\n",
    "    void_mfs = void_mfs_px * stamp_mesh.elem_size[0]\n",
    "\n",
    "    plot_sdf(sdf, solid_mfs, void_mfs)\n",
    "  \n",
    "  return train_data"
   ]
  },
  {
   "cell_type": "code",
   "execution_count": null,
   "metadata": {},
   "outputs": [],
   "source": [
    "train_data = process_shape_images(shapes, stamp_mesh, stamp_bbox)"
   ]
  },
  {
   "cell_type": "markdown",
   "metadata": {},
   "source": [
    "# Save Stamp SDF"
   ]
  },
  {
   "cell_type": "code",
   "execution_count": null,
   "metadata": {},
   "outputs": [],
   "source": [
    "np.save('../data/train_sdf_images.npy', train_data)"
   ]
  }
 ],
 "metadata": {
  "kernelspec": {
   "display_name": "jaxenv",
   "language": "python",
   "name": "python3"
  },
  "language_info": {
   "codemirror_mode": {
    "name": "ipython",
    "version": 3
   },
   "file_extension": ".py",
   "mimetype": "text/x-python",
   "name": "python",
   "nbconvert_exporter": "python",
   "pygments_lexer": "ipython3",
   "version": "3.10.9"
  }
 },
 "nbformat": 4,
 "nbformat_minor": 2
}
