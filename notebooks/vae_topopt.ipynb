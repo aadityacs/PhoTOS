{
 "cells": [
  {
   "cell_type": "code",
   "execution_count": null,
   "metadata": {},
   "outputs": [],
   "source": [
    "import sys\n",
    "sys.path.append('../')\n",
    "\n",
    "import pickle\n",
    "import yaml\n",
    "import numpy as np\n",
    "import jax\n",
    "import jax.numpy as jnp\n",
    "import mma\n",
    "from datetime import datetime\n",
    "\n",
    "import mesher\n",
    "import utils\n",
    "import network\n",
    "import transforms\n",
    "import opt\n",
    "import projections\n",
    "\n",
    "import plot_utils\n",
    "import invrs_gym\n",
    "from totypes import types\n",
    "from skimage import measure\n",
    "\n",
    "import matplotlib.pyplot as plt\n",
    "\n",
    "_Ext = utils.Extent\n",
    "\n",
    "jax.config.update(\"jax_debug_nans\", True)\n",
    "plt.rcParams.update(plot_utils.high_res_plot_settings)"
   ]
  },
  {
   "cell_type": "markdown",
   "metadata": {},
   "source": [
    "# Settings"
   ]
  },
  {
   "cell_type": "code",
   "execution_count": null,
   "metadata": {},
   "outputs": [],
   "source": [
    "with open(\"./settings.yaml\", \"r\") as file:\n",
    "  config = yaml.safe_load(file)\n",
    "\n",
    "dom_mesh_cfg = config['DOM_MESH']\n",
    "dom_bbox_cfg = config['DOM_BBOX']\n",
    "\n",
    "stamp_mesh_cfg = config['STAMP_MESH']\n",
    "stamp_bbox_cfg = config['STAMP_BBOX']\n",
    "\n",
    "nn_cfg = config['IMPLICIT_NN']\n",
    "\n",
    "cons_cfg = config['CONSTRAINTS']\n",
    "topopt_cfg = config['TOPOPT']"
   ]
  },
  {
   "cell_type": "markdown",
   "metadata": {},
   "source": [
    "# Load the vae network"
   ]
  },
  {
   "cell_type": "code",
   "execution_count": null,
   "metadata": {},
   "outputs": [],
   "source": [
    "latent_dim = nn_cfg['latent_dim']\n",
    "implicit_hidden_dim = nn_cfg['hidden_dim']\n",
    "implicit_num_layers = nn_cfg['num_layers']\n",
    "implicit_siren_freq = nn_cfg['siren_freq']\n",
    "\n",
    "\n",
    "sdf_net = network.ConvoImplicitAutoEncoder(latent_dim=latent_dim,\n",
    "                                           implicit_hidden_dim=implicit_hidden_dim,\n",
    "                                           implicit_num_layers=implicit_num_layers,\n",
    "                                           implicit_siren_freq=implicit_siren_freq)\n",
    "\n",
    "with open('../data/sdf_vae_net_weights.pkl', 'rb') as f:\n",
    "  sdf_net_params = pickle.load(f)"
   ]
  },
  {
   "cell_type": "markdown",
   "metadata": {},
   "source": [
    "# define the stamp parameters"
   ]
  },
  {
   "cell_type": "code",
   "execution_count": null,
   "metadata": {},
   "outputs": [],
   "source": [
    "stamp_bbox = mesher.BoundingBox(x=_Ext(stamp_bbox_cfg['x_min'],\n",
    "                                       stamp_bbox_cfg['x_max']),\n",
    "                                y=_Ext(stamp_bbox_cfg['y_min'],\n",
    "                                       stamp_bbox_cfg['y_max'])\n",
    "                                )\n",
    "default_stamp_mesh = mesher.Mesher(nelx=stamp_mesh_cfg['nelx'],\n",
    "                                   nely=stamp_mesh_cfg['nely'],\n",
    "                                   bounding_box=stamp_bbox\n",
    "                                   )\n",
    "\n",
    "library_stamp_sdfs = np.load('../data/train_sdf_images.npy')"
   ]
  },
  {
   "cell_type": "markdown",
   "metadata": {},
   "source": [
    "## Get the encoded Zs"
   ]
  },
  {
   "cell_type": "code",
   "execution_count": null,
   "metadata": {},
   "outputs": [],
   "source": [
    "pred_enc_stamps, _,_, encoded_z = sdf_net.apply({'params': sdf_net_params},\n",
    "                              library_stamp_sdfs,\n",
    "                              default_stamp_mesh.elem_centers,\n",
    "                              False)"
   ]
  },
  {
   "cell_type": "code",
   "execution_count": null,
   "metadata": {},
   "outputs": [],
   "source": [
    "num_stamps_library, latent_dim = encoded_z.shape"
   ]
  },
  {
   "cell_type": "code",
   "execution_count": null,
   "metadata": {},
   "outputs": [],
   "source": [
    "min_encoded_coordn = jnp.amin(encoded_z, axis=0)\n",
    "max_encoded_coordn = jnp.amax(encoded_z, axis=0)"
   ]
  },
  {
   "cell_type": "code",
   "execution_count": null,
   "metadata": {},
   "outputs": [],
   "source": [
    "dom_bbox = mesher.BoundingBox(x=_Ext(dom_bbox_cfg['x_min'],\n",
    "                                     dom_bbox_cfg['x_max']),\n",
    "                              y=_Ext(dom_bbox_cfg['y_min'], \n",
    "                                     dom_bbox_cfg['y_max'])\n",
    "                              )\n",
    "\n",
    "dom_mesh = mesher.Mesher(nelx=dom_mesh_cfg['nelx'],\n",
    "                         nely=dom_mesh_cfg['nely'],\n",
    "                         bounding_box=dom_bbox)"
   ]
  },
  {
   "cell_type": "markdown",
   "metadata": {},
   "source": [
    "# Define the transform extents"
   ]
  },
  {
   "cell_type": "code",
   "execution_count": null,
   "metadata": {},
   "outputs": [],
   "source": [
    "scale_factor = 0.5\n",
    "min_feature_size = cons_cfg['mfs']\n",
    "lib_mfs = cons_cfg['library_mfs']\n",
    "\n",
    "dom_bbox_padded = mesher.BoundingBox(\n",
    "    x=_Ext(dom_bbox_cfg['x_min'], dom_bbox_cfg['x_max']).pad(pad_amount=-80),\n",
    "    y=_Ext(dom_bbox_cfg['y_min'], dom_bbox_cfg['y_max']).pad(pad_amount=-80),\n",
    ")\n",
    "\n",
    "max_scale = scale_factor*(dom_bbox_padded.diag_length/stamp_bbox.diag_length)\n",
    "\n",
    "transform_extent = transforms.TransformExtent(trans_x=dom_bbox_padded.x,\n",
    "                                              trans_y=dom_bbox_padded.y,\n",
    "                                              rot_rad=_Ext(0., 2*np.pi),\n",
    "                                              scale=_Ext(min_feature_size/lib_mfs, max_scale))"
   ]
  },
  {
   "cell_type": "markdown",
   "metadata": {},
   "source": [
    "# Init opt design var"
   ]
  },
  {
   "cell_type": "markdown",
   "metadata": {},
   "source": [
    "## Init transform"
   ]
  },
  {
   "cell_type": "code",
   "execution_count": null,
   "metadata": {},
   "outputs": [],
   "source": [
    "num_stamp_x, num_stamp_y = topopt_cfg['num_stamps_x'], topopt_cfg['num_stamps_y']\n",
    "num_stamps = num_stamp_x * num_stamp_y\n",
    "init_transform = transforms.init_grid_transforms(num_stamp_x,\n",
    "                                                 num_stamp_y,\n",
    "                                                 transform_extent)"
   ]
  },
  {
   "cell_type": "markdown",
   "metadata": {},
   "source": [
    "## Initialize latent"
   ]
  },
  {
   "cell_type": "code",
   "execution_count": null,
   "metadata": {},
   "outputs": [],
   "source": [
    "np_rng = np.random.default_rng(0)\n",
    "\n",
    "# We just feed the normalized array here\n",
    "init_latent_var = np_rng.normal(scale=2., size=(num_stamps,latent_dim))\n",
    "init_latent_guess = opt.normalize_latent_coordns(init_latent_var,\n",
    "                                              min_encoded_coordn,\n",
    "                                             max_encoded_coordn)"
   ]
  },
  {
   "cell_type": "code",
   "execution_count": null,
   "metadata": {},
   "outputs": [],
   "source": [
    "init_guess = jnp.concatenate((init_latent_guess.reshape((-1)),\n",
    "                          init_transform.to_normalized_array(transform_extent)),\n",
    "                              axis=-1)"
   ]
  },
  {
   "cell_type": "markdown",
   "metadata": {},
   "source": [
    "# Optimization loss parameters"
   ]
  },
  {
   "cell_type": "code",
   "execution_count": null,
   "metadata": {},
   "outputs": [],
   "source": [
    "min_separation = cons_cfg['msd']"
   ]
  },
  {
   "cell_type": "markdown",
   "metadata": {},
   "source": [
    "# Define the solver and challenge"
   ]
  },
  {
   "cell_type": "code",
   "execution_count": null,
   "metadata": {},
   "outputs": [],
   "source": [
    "mesh_resolution_nm = dom_bbox.lx/dom_mesh.nelx\n",
    "\n",
    "challenge = invrs_gym.challenges.ceviche_lightweight_waveguide_bend(\n",
    "                                            resolution_nm=mesh_resolution_nm)\n",
    "\n",
    "# mode convertor challenge\n",
    "# challenge = invrs_gym.challenges.ceviche_lightweight_mode_converter(\n",
    "#                                              resolution_nm=mesh_resolution_nm)"
   ]
  },
  {
   "cell_type": "code",
   "execution_count": null,
   "metadata": {},
   "outputs": [],
   "source": [
    "key = jax.random.PRNGKey(seed=1)\n",
    "init_density = jax.random.uniform(key, (dom_mesh.nelx, dom_mesh.nely),\n",
    "                                 minval=0., maxval=1.)\n",
    "dens_array = types.Density2DArray(array=init_density, lower_bound=0.,\n",
    "                                  upper_bound=1.)"
   ]
  },
  {
   "cell_type": "markdown",
   "metadata": {},
   "source": [
    "# Optimization parameters"
   ]
  },
  {
   "cell_type": "code",
   "execution_count": null,
   "metadata": {},
   "outputs": [],
   "source": [
    "num_epochs, lr = topopt_cfg['num_epochs'], topopt_cfg['lr']"
   ]
  },
  {
   "cell_type": "code",
   "execution_count": null,
   "metadata": {},
   "outputs": [],
   "source": [
    "num_latent_params = latent_dim*num_stamps\n",
    "num_transform_params = init_transform.num_transform_parameters\n",
    "num_opt_params = (num_transform_params + \n",
    "                    num_latent_params)"
   ]
  },
  {
   "cell_type": "code",
   "execution_count": null,
   "metadata": {},
   "outputs": [],
   "source": [
    "def optimize_design(init_guess: jnp.ndarray,\n",
    "                    min_separation: float,\n",
    "                    dom_mesh: mesher.Mesher,\n",
    "                    num_stamps: int,\n",
    "                    transform_extent: transforms.TransformExtent,\n",
    "                    num_epochs: int,\n",
    "                    lr: float,\n",
    "                    mma_state_array: mma.MMAState = None,\n",
    "                    plot_interval: int = 1,\n",
    "                    checkpoint_interval: int = 10)->jnp.ndarray:\n",
    "  \"\"\"\n",
    "  Optimize the design using MMA.\n",
    "  \n",
    "  Args:\n",
    "    init_guess: Normalized initial guess for the optimization with values in [0, 1].\n",
    "    min_separation: Minimum separation constraint for the design.\n",
    "    dom_mesh: Mesh object containing mesh information.\n",
    "    num_stamps: Number of stamps for the optimization.\n",
    "    transform_extent: Transformation extent object.\n",
    "    num_epochs: Number of optimization epochs.\n",
    "    lr: Learning rate for the optimization.\n",
    "    mma_state_array: Optional initial state for MMA.\n",
    "    plot_interval: Interval for plotting the design progress.\n",
    "    checkpoint_interval: Interval for saving checkpoints.\n",
    "  \n",
    "  Returns:\n",
    "    Tuple containing the density, optimized parameters, convergence history, and final MMA state.\n",
    "  \"\"\"\n",
    "  num_design_var = init_guess.shape[0]\n",
    "  lower_bound = np.zeros((num_design_var, 1))\n",
    "  upper_bound = np.ones((num_design_var, 1))\n",
    "  mma_params = mma.MMAParams(\n",
    "                              max_iter=num_epochs,\n",
    "                              kkt_tol=1.e-6,\n",
    "                              step_tol=1.e-6,\n",
    "                              move_limit=lr,\n",
    "                              num_design_var=num_design_var,\n",
    "                              num_cons=2,\n",
    "                              lower_bound=lower_bound,\n",
    "                              upper_bound=upper_bound,\n",
    "                          )\n",
    "  if mma_state_array is None:\n",
    "    mma_state = mma.init_mma(init_guess.reshape((-1, 1)), mma_params)\n",
    "  else:\n",
    "    mma_state = mma.MMAState.from_array(mma_state_array, num_design_var)\n",
    "    mma_state.is_converged = False\n",
    "\n",
    "  convg_history = {'epoch': [], 'response': [], 'objective': [],\n",
    "                   'sep_cons': [], 'lat_cons': [], 'density': [], 'aux': []}\n",
    "  while not mma_state.is_converged:\n",
    "    obj ,grad_obj, auxs = opt.compute_objective(mma_state.x,\n",
    "                                          transform_extent,\n",
    "                                          challenge,\n",
    "                                          dom_mesh,\n",
    "                                          sdf_net,\n",
    "                                          sdf_net_params,\n",
    "                                          stamp_bbox,\n",
    "                                          dens_array,\n",
    "                                          num_stamps,\n",
    "                                          num_latent_params,\n",
    "                                          latent_dim,\n",
    "                                          min_encoded_coordn,\n",
    "                                          max_encoded_coordn)\n",
    "    cons, grad_cons = opt.compute_constraint(mma_state.x,\n",
    "                                         min_separation,\n",
    "                                         transform_extent,\n",
    "                                         dom_mesh,\n",
    "                                         sdf_net,\n",
    "                                         sdf_net_params,\n",
    "                                         stamp_bbox,\n",
    "                                         num_latent_params,\n",
    "                                         latent_dim,\n",
    "                                         min_encoded_coordn,\n",
    "                                         max_encoded_coordn,\n",
    "                                         encoded_z,\n",
    "                                         num_stamps,\n",
    "                                         mma_state.epoch)\n",
    "    \n",
    "    opt_params = mma_state.x\n",
    "\n",
    "    mma_state.x = np.array(mma_state.x)\n",
    "    mma_state = mma.update_mma(\n",
    "                              mma_state,\n",
    "                              mma_params,\n",
    "                              np.array(obj),\n",
    "                              np.array(grad_obj),\n",
    "                              np.array(cons),\n",
    "                              np.array(grad_cons)\n",
    "                            )\n",
    "    \n",
    "    (shape_transforms, pred_stamp_latent_coordns, \n",
    "     density, response, distance, metrics, aux) = auxs\n",
    "\n",
    "    convg_history['epoch'].append(mma_state.epoch)\n",
    "    convg_history['response'].append(response)\n",
    "    convg_history['objective'].append(obj)\n",
    "    convg_history['sep_cons'].append(cons[0])\n",
    "    convg_history['lat_cons'].append(cons[1])\n",
    "    convg_history['density'].append(density)\n",
    "    convg_history['aux'].append(aux)\n",
    "\n",
    "\n",
    "    status = (f'epoch {mma_state.epoch}, J = {obj[0]:.2E}, '\n",
    "              f'sep_cons {cons[0,0]:.2F}, lat_cons {cons[1,0]:.2F}')\n",
    "    print(status)\n",
    "    if mma_state.epoch % plot_interval == 0:\n",
    "      plt.figure()\n",
    "      img = plt.imshow(density.reshape((dom_mesh.nelx, dom_mesh.nely)).T,\n",
    "                       cmap='coolwarm',\n",
    "                       origin='lower')\n",
    "      plt.colorbar(img); plt.title(status); plt.show(); plt.pause(1.e-3)\n",
    "\n",
    "      plt.figure()\n",
    "      plt.scatter(pred_stamp_latent_coordns[:,0], pred_stamp_latent_coordns[:,1],\n",
    "                  c='red', marker='*')\n",
    "      plt.scatter(encoded_z[:,0], encoded_z[:,1],\n",
    "                  c='blue', marker='o')\n",
    "      plt.show(); plt.pause(1e-6)\n",
    "    \n",
    "    if mma_state.epoch%checkpoint_interval == 0:\n",
    "      np.save(f\"../results/mma_state_{mma_state.epoch}.npy\", mma_state.to_array())\n",
    "  return density, opt_params, convg_history, mma_state"
   ]
  },
  {
   "cell_type": "code",
   "execution_count": null,
   "metadata": {},
   "outputs": [],
   "source": [
    "# load mma state if available\n",
    "mma_state_array = np.load('../results/mma_state_20.npy')\n",
    "# mma_state_array = None"
   ]
  },
  {
   "cell_type": "code",
   "execution_count": null,
   "metadata": {},
   "outputs": [],
   "source": [
    "density, opt_params, convg_history, mma_state = optimize_design(\n",
    "                                init_guess,\n",
    "                                min_separation,\n",
    "                                dom_mesh,\n",
    "                                num_stamps,\n",
    "                                transform_extent,\n",
    "                                num_epochs,\n",
    "                                lr,\n",
    "                                mma_state_array)"
   ]
  },
  {
   "cell_type": "code",
   "execution_count": null,
   "metadata": {},
   "outputs": [],
   "source": [
    "# save the data\n",
    "now = datetime.now()\n",
    "save_file = f\"../results/convergence_waveguide_bend_{now:%Y-%m-%d-%H-%M}.pkl\"\n",
    "with open(save_file, 'wb') as f:\n",
    "  pickle.dump(convg_history, f)\n",
    "\n",
    "# save the mma state\n",
    "mma_save_file = f\"../results/mma_waveguide_bend_{now:%Y-%m-%d-%H-%M}.npy\"\n",
    "np.save(mma_save_file, mma_state.to_array())"
   ]
  }
 ],
 "metadata": {
  "kernelspec": {
   "display_name": "jaxenv",
   "language": "python",
   "name": "python3"
  },
  "language_info": {
   "codemirror_mode": {
    "name": "ipython",
    "version": 3
   },
   "file_extension": ".py",
   "mimetype": "text/x-python",
   "name": "python",
   "nbconvert_exporter": "python",
   "pygments_lexer": "ipython3",
   "version": "3.10.9"
  }
 },
 "nbformat": 4,
 "nbformat_minor": 2
}
